{
 "cells": [
  {
   "cell_type": "markdown",
   "metadata": {},
   "source": [
    "# Advanced Operations Using Numpy Arrays\n",
    "\n",
    "In my previous post, I talk about [Reduction Operations in Numpy Arrays](https://medium.com/@nayakvinayak95/reduction-operations-in-numpy-cabd795b1bb4). You may also read through it before you move on to the more Advanced Operations below. \n",
    "\n",
    "The topics covered in this post are as follows:\n",
    "- Introduction\n",
    "- The Dot Product\n",
    "- Singular Value Decomposition\n",
    "- Inverse of a Matrix\n",
    "- References\n",
    "\n",
    "You can click on any of these above to jump to the respective section.\n",
    "\n",
    "## Introduction\n",
    "\n",
    "Numpy consists of a subpackage called linalg which has functions particularly pertaining to linear algebra which is an integral part in the working of many DL and ML algorithms. We will discuss several concepts about these operations along with their numpy implementation which will inevitably become a part of your Data Science toolkit. We will be covering three of the most important operations that can be carried out with numpy arrays which are heavily used in DL and ML applications such as Natural Language Processing, Image Retrieval tasks and Customer Recommendation tasks. Without any further delay, let's get started!\n",
    "\n",
    "## The Dot Product\n",
    "In vector algebra, the dot product represnts a scalar quantity obtained by sum aggregating the product of vectors along the n-dimensional space respectively. \n",
    "\n",
    "In linear algebra, dot product is typically used for finding out if two vectors are perpendicular to each other or to find out the magnitude of a single vector or to find out the projection of a vector along another vector.\n",
    "\n",
    "In Data Science, the dot product is typically used to find out the similarity or distance between two or more vectors in some high dimensional space. When we perform nearest neighbour search this is what we typically use. The similarity found out using dot product is called cosine similarity because the dot product theoritically is given by the expression\n",
    "\n",
    "$$ \\bar{a} \\cdot \\bar{b} = |a| \\times |b| \\times cos(\\theta) $$\n",
    "\n",
    "<img src=\"https://upload.wikimedia.org/wikipedia/commons/thumb/7/76/Inner-product-angle.svg/1280px-Inner-product-angle.svg.png\" width=\"40%\">\n",
    "\n",
    "\n",
    "The smaller the angle between the two vectors, more closely aligned the two vectors are since the cosine of an angle is high when the angle itself is small/low."
   ]
  },
  {
   "cell_type": "code",
   "execution_count": 1,
   "metadata": {},
   "outputs": [
    {
     "data": {
      "text/plain": [
       "26"
      ]
     },
     "execution_count": 1,
     "metadata": {},
     "output_type": "execute_result"
    }
   ],
   "source": [
    "import numpy as np\n",
    "v1 = np.array([3, 4])\n",
    "v2 = np.array([2, 5])\n",
    "np.dot(v1, v2)"
   ]
  },
  {
   "cell_type": "markdown",
   "metadata": {},
   "source": [
    "Calculation is as follows\n",
    "\n",
    "$ \\bar{v1} \\cdot \\bar{v2} = 3 \\times 2 + 4 \\times 5 = 26 $\n",
    "\n",
    "> In Natural Language Processing applications, the words are individually represented as vectors or embeddings of different lengths (50, 100, 200, 300, 512 etc.) Dot products are used to identify word similarity and word relationships which emerge out of words being used in similar contexts; such as country-capital pairs, or male-female pairs and so on.\n",
    "\n",
    "<img src=\"https://miro.medium.com/max/700/1*gcC7b_v7OKWutYN1NAHyMQ.png\">\n",
    "\n",
    "> In applications such as visual search, the images are converted into a single dimensional vector which are compared on the basis of dot product as discussed above to retrieve similar looking items or images. \n",
    "\n",
    "<img src=\"https://www.raconteur.net/wp-content/uploads/2019/03/FOR_p13_1.jpg\" width=\"50%\">\n",
    "\n"
   ]
  },
  {
   "cell_type": "markdown",
   "metadata": {},
   "source": [
    "## Singular Value Decomposition\n",
    "\n",
    "This is a concept very commonly used in recommendation systems. Basically, it is used to extract topics or genres or gists of information from a consumer/user/record v/s product/movie/song/feature matrix respectively. (We'll use user and song respectively in our example). \n",
    "\n",
    "The topics extracted by SVD are abstract and may not really be in the scope of humans to understand. But generally it's observed that most of the times it's identifiable what the topic can broadly be a manifestation of. For example, consider we have constructed a matrix which has names of novels as rows and individual words in the novel as columns where each value represents the relevance of that word in a particular novel (the underlying method is called tf-idf which we won't dig deep into now). This matrix can be decomposed into three matrices which can help us understand the vectors in more detail. \n",
    "\n",
    "<img src=\"https://public.lanl.gov/mewall/kluwer2002/SVD_GEA.jpg\" width=\"50%\">\n",
    "\n",
    "The first one is the user-topic matrix, the second one is the topic importance matrix(this is always a diagonal matrix where the diagonal elements are representative of importance of the respctive topic) and the third matrix is the topic song matrix. Once we have these matrices, we can utilize this information to create buckets of users to suggest music from respective topics which they like to hear. Whereas the terms users and songs here are for the sake of better understanding, it could very possibly be novels-words, users-movies etc. "
   ]
  },
  {
   "cell_type": "code",
   "execution_count": 2,
   "metadata": {},
   "outputs": [
    {
     "name": "stdout",
     "output_type": "stream",
     "text": [
      "Original song-user matrix:\n",
      "[[ 1.3315865   0.71527897 -1.54540029 -0.00838385  0.62133597 -0.72008556]\n",
      " [ 0.26551159  0.10854853  0.00429143 -0.17460021  0.43302619  1.20303737]\n",
      " [-0.96506567  1.02827408  0.22863013  0.44513761 -1.13660221  0.13513688]\n",
      " [ 1.484537   -1.07980489 -1.97772828 -1.7433723   0.26607016  2.38496733]\n",
      " [ 1.12369125  1.67262221  0.09914922  1.39799638 -0.27124799  0.61320418]\n",
      " [-0.26731719 -0.54930901  0.1327083  -0.47614201  1.30847308  0.19501328]]\n",
      "\n",
      "User-Genre matrix:\n",
      "[[-0.19639973  0.4890009  -0.71515759 -0.21927454 -0.36585558 -0.1700684 ]\n",
      " [-0.19316514  0.07796789  0.29572813  0.45237641 -0.28654768 -0.76315079]\n",
      " [ 0.27763479  0.14949224  0.47698575 -0.42897205 -0.68648803  0.13331448]\n",
      " [-0.90241259  0.07227869  0.29694701 -0.21752426  0.03367237  0.20928246]\n",
      " [ 0.11645558  0.79676478  0.22028771  0.41435961  0.17624891  0.31673292]\n",
      " [-0.13828561 -0.30396197 -0.19202833  0.58672528 -0.52969501  0.47622051]]\n",
      "\n",
      "Genre Importances:\n",
      "[4.35977476 2.95416126 2.23452618 1.55092952 0.81153871 0.06306336]\n",
      "\n",
      "Genre-Song matrix:\n",
      "[[-0.40198986  0.31405602  0.49178794  0.44975904 -0.22337679 -0.49571887]\n",
      " [ 0.54548505  0.65452181 -0.27942834  0.39991939 -0.14451916  0.12306806]\n",
      " [-0.26600756  0.07354218  0.27952426  0.02165599 -0.48799873  0.77915722]\n",
      " [ 0.14698415  0.03663536  0.51058605  0.26502572  0.73804873  0.31843498]\n",
      " [ 0.60242322 -0.55362298  0.35463126  0.23094256 -0.37346054 -0.10962334]\n",
      " [-0.2925271  -0.3996511  -0.46418657  0.71675603  0.08297926  0.13642935]]\n"
     ]
    }
   ],
   "source": [
    "import numpy as np\n",
    "np.random.seed(10)\n",
    "x = np.random.randn(6,6)\n",
    "print(f\"Original song-user matrix:\\n{x}\")\n",
    "\n",
    "# Compute the SVD \n",
    "u, v, d = np.linalg.svd(x)\n",
    "\n",
    "print(f\"\\nUser-Genre matrix:\\n{u}\")\n",
    "print(f\"\\nGenre Importances:\\n{v}\")\n",
    "print(f\"\\nGenre-Song matrix:\\n{d}\")"
   ]
  },
  {
   "cell_type": "markdown",
   "metadata": {},
   "source": [
    "By default the number of topics is the same as the number of songs/words in the above case but that doesn't serve the purpose because every song or word will be a genre/topic of it's own that way; so in practise, there's another version of SVD that we use called truncated SVD in which the number of topics is restricted in number. This gives us a workable number of topics that are meaningful for recommendations.\n",
    "\n",
    "Numpy doesn't offer a function to perform truncated SVD. We have to use another library called scikit-learn to do the same; don't bother much about it, I will cover it in detail a future post. However it's important to note that truncated SVD is more commonly used because it acts like a tool which can extract meaning from these numbers while compressing the information substantially to a useful state.\n",
    "\n",
    "If you're really interested to dig deeper into the topic, I would recommend you read [this medium post](https://medium.com/@jonathan_hui/machine-learning-singular-value-decomposition-svd-principal-component-analysis-pca-1d45e885e491) which covers svd in great depth with all the math worked out beautifully."
   ]
  },
  {
   "cell_type": "markdown",
   "metadata": {},
   "source": [
    "## Inverse of a matrix\n",
    "\n",
    "The inverse of a matrix is a matrix such that when it's multiplied with the matrix itself, we obtain an identity matrix. Now, why is such a matrix useful? \n",
    "\n",
    "For a long time, solving systems of linear equations in order to find out unknown variables has been prevalent which in my honest opinion could be considered the origins of data science. Because understanding natural phenomenon, quantifying them into constraints and expressing them as a system of linear equations to find out the values of unknown variables using numerical methods involved dealing with observational data and is still used significantly in the computational fields. \n",
    "\n",
    "That's why the inverse of a matrix becomes an important quantity when we solve these equations. The general formulation of the problem is\n",
    "\n",
    "$$ AX = B$$\n",
    "$$ \\therefore X = A^{-1}B $$\n",
    "\n",
    "The first quantity in RHS of the second equation is called inverse of matrix A. Numpy offers an eponymous function to compute the inverse of a matrix."
   ]
  },
  {
   "cell_type": "code",
   "execution_count": 3,
   "metadata": {},
   "outputs": [
    {
     "name": "stdout",
     "output_type": "stream",
     "text": [
      "Original Matrix:\n",
      "[[ 1.3315865   0.71527897 -1.54540029 -0.00838385  0.62133597 -0.72008556]\n",
      " [ 0.26551159  0.10854853  0.00429143 -0.17460021  0.43302619  1.20303737]\n",
      " [-0.96506567  1.02827408  0.22863013  0.44513761 -1.13660221  0.13513688]\n",
      " [ 1.484537   -1.07980489 -1.97772828 -1.7433723   0.26607016  2.38496733]\n",
      " [ 1.12369125  1.67262221  0.09914922  1.39799638 -0.27124799  0.61320418]\n",
      " [-0.26731719 -0.54930901  0.1327083  -0.47614201  1.30847308  0.19501328]]\n",
      "\n",
      "\n",
      "Inverse of the Matrix: \n",
      "[[ 0.69005751  3.36713268 -1.22342309 -0.90519899 -1.18894068 -2.56712266]\n",
      " [ 1.39283466  5.05556996 -0.31785218 -1.39361202 -1.92550767 -2.7263652 ]\n",
      " [ 0.86188089  5.64881722 -1.34564357 -1.66883382 -2.15259717 -3.55446794]\n",
      " [-2.03551401 -8.68445158  1.30004703  2.27061119  3.84284833  5.30480335]\n",
      " [-0.01743823 -0.71552062  0.16148568  0.13421513  0.43978185  1.21347429]\n",
      " [-0.57018767 -1.39105971  0.43404394  0.61270545  0.84324175  1.15836062]]\n",
      "\n"
     ]
    }
   ],
   "source": [
    "import numpy as np\n",
    "np.random.seed(10)\n",
    "x = np.random.randn(6,6)\n",
    "y = np.linalg.inv(x)\n",
    "print(f\"Original Matrix:\\n{x}\\n\")\n",
    "print(f\"\\nInverse of the Matrix: \\n{y}\\n\")"
   ]
  },
  {
   "cell_type": "markdown",
   "metadata": {},
   "source": [
    "Well, matrices is an expansive chapter and there's no end to it. These three operations with respect to data science are the most commonly used and make it to being an invaluable tool in your data science toolbox. One other method known as PCA is very similar to SVD, apart from this, there might be other tools like cross-product/vector-product etc. which are not very commonly used in data science, so we'll save those for a later day. \n",
    "\n",
    "Thanks for reading through this entire series of getting to know about Numpy Arrays and hope these tools work the best for you when working on your data science solutions!\n",
    "\n",
    "## References\n",
    "\n",
    "1. [Dot Product of vectors](https://en.wikipedia.org/wiki/Dot_product)\n",
    "2. [Word Vectors Image](https://towardsdatascience.com/word-embeddings-for-nlp-5b72991e01d4)\n",
    "3. [Visual Search Image](https://www.raconteur.net/sponsored/visual-search-is-the-next-battlefield-in-retail)\n",
    "4. [SVD Image](https://public.lanl.gov/mewall/kluwer2002.html)\n",
    "5. [In detail post about SVD and PCA](https://medium.com/@jonathan_hui/machine-learning-singular-value-decomposition-svd-principal-component-analysis-pca-1d45e885e491)"
   ]
  }
 ],
 "metadata": {
  "kernelspec": {
   "display_name": "Python [conda env:okkular] *",
   "language": "python",
   "name": "conda-env-okkular-py"
  },
  "language_info": {
   "codemirror_mode": {
    "name": "ipython",
    "version": 3
   },
   "file_extension": ".py",
   "mimetype": "text/x-python",
   "name": "python",
   "nbconvert_exporter": "python",
   "pygments_lexer": "ipython3",
   "version": "3.6.10"
  },
  "toc": {
   "base_numbering": 1,
   "nav_menu": {},
   "number_sections": true,
   "sideBar": true,
   "skip_h1_title": false,
   "title_cell": "Table of Contents",
   "title_sidebar": "Contents",
   "toc_cell": false,
   "toc_position": {},
   "toc_section_display": true,
   "toc_window_display": false
  }
 },
 "nbformat": 4,
 "nbformat_minor": 4
}
