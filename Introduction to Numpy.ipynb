{
 "cells": [
  {
   "cell_type": "markdown",
   "metadata": {},
   "source": [
    "# Introduction to numpy\n",
    "\n",
    "**What is numpy?**\n",
    "\n",
    "Numpy (could be thought of as numerical python) is a package which is used for scientific computing in python. It contains data structures which could handle many operations which are typically encountered in scientific computation in a fast and efficient way. To name a few, it can perform the following operations\n",
    "\n",
    "- Matrix operations\n",
    "- Sorting & shape manipulations\n",
    "- Simulating randomness (well psedo-randomness)\n",
    "- Basic linear algebra (dot product, cross product, inverse etc.)\n",
    "- Basic statistical operations (mean, standard deviation, median etc.)\n",
    "\n",
    "**Why numpy?**\n",
    "\n",
    "A simple answer would be \n",
    "> Numpy is fast, efficient, has a wide range of utility functions.\n",
    "\n",
    "However, a more expository version is as follows.\n",
    "- Numpy arrays are vectorized. Vectorized implementation meaning the user doesn't have to write any looping constructs like for or while for repetitive operations. All of it is handled behind the scenes in an optimized, pre-compiled C code.\n",
    "\n",
    "- Vectorized implementations are computationally cheap than loops, therefore they are faster. x is a vector of 5 numbers.\n",
    "<img>\n",
    "\n",
    "- In the absence of loops, written code more closely resembles the natural language. This makes the code easier to comprehend. For eg. compare matrix multiplication operation in vectorized v/s non-vectorized implementation below and decide for yourself. x and y are matrices of dimensions 1000 * 10 and 10 * 1000 respectively.\n",
    "<img>\n",
    "\n",
    "**Installing numpy**\n",
    "\n",
    "You should have python and pip installed for installling numpy to your machine. pip is a package manager which is used for installing packages in python. It stands for either *Pip Installs Packages* or *preferred installer program*.\n",
    "\n",
    "You can look at these resources to install python and pip.\n",
    "\n",
    "Once you have them installed, you can open a command prompt in windows or a terminal in mac/ubuntu and type\n",
    "\n",
    "`pip install numpy`\n",
    "\n",
    "This will automatically install the latest version of numpy to your local system. To verify if numpy has installed properly, in your shell/command prompt, type the following commands. If they execute successfuly, that means you're good to go!\n",
    "\n",
    "```\n",
    "python\n",
    "import numpy\n",
    "print(numpy.__version__)\n",
    "```\n",
    "\n",
    "- The first command `python` opens the python interpretor in the terminal/command prompt. \n",
    "- The second command imports the package so that we can have it for our use.\n",
    "- The third command prints the version of the numpy package we installed.\n",
    "\n",
    "Once you have numpy installed, you can view this next post to get going with numpy!"
   ]
  }
 ],
 "metadata": {
  "kernelspec": {
   "display_name": "Python [conda env:okkular] *",
   "language": "python",
   "name": "conda-env-okkular-py"
  },
  "language_info": {
   "codemirror_mode": {
    "name": "ipython",
    "version": 3
   },
   "file_extension": ".py",
   "mimetype": "text/x-python",
   "name": "python",
   "nbconvert_exporter": "python",
   "pygments_lexer": "ipython3",
   "version": "3.6.10"
  },
  "toc": {
   "base_numbering": 1,
   "nav_menu": {},
   "number_sections": true,
   "sideBar": true,
   "skip_h1_title": false,
   "title_cell": "Table of Contents",
   "title_sidebar": "Contents",
   "toc_cell": false,
   "toc_position": {},
   "toc_section_display": true,
   "toc_window_display": false
  }
 },
 "nbformat": 4,
 "nbformat_minor": 4
}
