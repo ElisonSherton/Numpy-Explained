{
 "cells": [
  {
   "cell_type": "markdown",
   "metadata": {},
   "source": [
    "# Arrays in Numpy\n",
    "\n",
    "Topics covered in this post:\n",
    "\n",
    "- nd-array\n",
    "- Array Terminologies\n",
    "- Uses of arrays\n",
    "- how to create array\n",
    "- Basic Array Operations (Elementwise operations)\n",
    "    - Binary operations: A calculation that combines two elements/operands to produce a single result.\n",
    "        - Addition, Subtraction, Multiplication, Division\n",
    "    - Unary operations: A calculation that uses one element/operand to produce a single output.\n",
    "        - Reciprocal, Negation\n",
    "\n",
    "**What is an array?**\n",
    "\n",
    "An array is a data structure meant to hold data in a particular structure. Formal definition as per the numpy docs is as follows:\n",
    "\n",
    "> An array object represents a multidimensional, homogeneous array of fixed-size items.\n",
    "\n",
    "For understanding the definition, we have to first understand all the terms mentioned here. So, let's start with some intuition from geometry to understand the concept of what dimensions are.\n",
    "\n",
    "In geometry, fundamental unit/building block is a point which is a zero-dimensional entity. When they're arranged next to each other, we get a contiguous set of points making a line; this is a one-dimensional entity. \n",
    "\n",
    "Next, when we arrange a set of lines which are at some angle (other than 0 degrees) to one another, we get a plane which is a two dimensional entity and then sets of planes which define a parallelopiped become a three dimensional entity and so on. Since we're three-dimensional beings, we can visualize 0, 1, 2 and 3-Dimensional structures but this logic of stacking dimensions can continue perpetually and we call the resulting space n-dimensional space.\n",
    "\n",
    "*The nd-array object in numpy can be thought of a generic object capable of representing data in n-dimensions. You can think of a python list as one dimension. When you nest multiple lists within one another, you create what is an n-dimensional array. (n-dimensional is just another way of saying multi-dimensional).*\n",
    "\n",
    "Now that we have some idea of what a dimension is, let's tackle the second part. *Homogeneous* simply means that the lists which we nest to create this structure must all contain same kind of items. \n",
    "\n",
    "Let's say you have a box of oranges with oranges aligned neatly with their axes perpendicular to each other. This arrangement is a 3-Dimensonal one. However if you got an apple sitting in one or more spots in this box, you can't call this arrangement a 3-Dimensional array. Note that it cannot be called an array because you have dissimilar items in the arrangement. That's what homogenous means.\n",
    "\n",
    "In terms of program, a nested list could be called an array if all elements of all lists are of the same datatype i.e. either int, float, bools, strings or anything. But since we're doing numerical computation, these types are limited to ints and floats for numpy.\n",
    "\n",
    "## Array Terminologies\n",
    "\n",
    "**Rank of an array**\n",
    "\n",
    "The rank of an array is the number of dimensions present within the array. It's interesting to note that some arrays have also got special names.\n",
    "\n",
    "A rank one array is also called a vector, just an array. (Colloquil understanding is that array = 1 dimension).\n",
    "\n",
    "A rank two array is also called a matrix.\n",
    "\n",
    "All other arrays are referred to by prepending the rank followed by a D. eg. 3D-array, 4D-array, nD-array etc.\n",
    "\n",
    "**Axis of an array**\n",
    "\n",
    "The axis of an array is a specific dimension along that array. The elements of an array are said to run along/across axis of an array. The length of an axis is the number of elements running along that axis.\n",
    "\n",
    "**Shape of an array**\n",
    "\n",
    "The lengths of all the axis together correspond to the shape of an array. If we know the shape of an array, we automatically know the rank and axes as well. \n",
    "\n",
    "For eg. a 3 X 4 array has rank 2 and the there are two axes which run for a length of 3 and 4 elements respectively.\n",
    "\n",
    "## Uses of array\n",
    "Now that we know about what arrays are, let's first understand how & where they're useful and then go on to study them in more depth.\n",
    "\n",
    "To name a few uses of arrays, they're as follows:\n",
    "\n",
    "- Any Machine Learning problem involves expressing the output Y as a function of the input X. These inputs and outputs are expressed typically as a 1-Dimensional array or more colloquially referred to as vectors. \n",
    "\n",
    "- Applications involving checking the states of machines/elements/programs use flags or flag variables which are convenient to be represented as vectors.\n",
    "\n",
    "- In any natural language processing problem, sentences are represented as sequence of words. A sequence of words is nothing but a 1-D array/vector. Also in time-series analysis, the dependent variable is studied with respect to it's past values which are also represented as a 1-Dimensional array/vector.\n",
    "\n",
    "- Images are represented as either 2-Dimensional (monochromatic) or 3-Dimensional (colored) or 4-Dimensional (colored with transparency) arrays of numbers. Any Deep Learning application needs you to specify the image in one of these formats. What you're viewing on your screen right now as you read this is a 3-Dimensional/4-Dimensional array being rendered as an image in real-time; that's how important and underappreciated this data-structure called as an array is!\n",
    "\n",
    "Now that we know why we need arrays, let's get our hands dirty and understand how we can use them.\n",
    "\n",
    "## Creating an array in numpy\n",
    "\n",
    "It's simple to create an array in numpy. You create a list and wrap numpy's array function around it as follows\n",
    "\n",
    "```python\n",
    "import numpy as np\n",
    "x = [1, 2, 3, 10, 11]\n",
    "y = np.array(x)\n",
    "```\n",
    "\n",
    "Optionally you can specify the type of data you want your numpy array to be. It could be one of np.int8, np.int16, np.int32, np.int64, np.float16, np.float32, np.float64. The numbers specify the number of bits used to store every element in that array. If you don't specify, numpy will automatically assign one of np.int64 or np.float64 based on the data you have in the array.\n",
    "\n",
    "You can see the shape of an array using\n",
    "```python\n",
    "print(np.shape(x))\n",
    "```\n",
    "\n",
    "This prints the shape of the array x to the console. Also you can see the rank of an array using\n",
    "```python\n",
    "print(len(np.shape(x))\n",
    "```\n",
    "since shape is basically a tuple with the lengths of axes. \n",
    "\n",
    "\n",
    "## Elementwise Array Operations"
   ]
  },
  {
   "cell_type": "code",
   "execution_count": 1,
   "metadata": {},
   "outputs": [],
   "source": [
    "import numpy as np"
   ]
  },
  {
   "cell_type": "code",
   "execution_count": 2,
   "metadata": {},
   "outputs": [],
   "source": [
    "# Defining an array using list of lists\n",
    "x = np.array([[1,2], [3,4]])\n",
    "y = np.array([[5,6], [7,8]])"
   ]
  },
  {
   "cell_type": "code",
   "execution_count": 3,
   "metadata": {},
   "outputs": [
    {
     "data": {
      "text/plain": [
       "array([[ 6,  8],\n",
       "       [10, 12]])"
      ]
     },
     "execution_count": 3,
     "metadata": {},
     "output_type": "execute_result"
    }
   ],
   "source": [
    "# Adding two arrays\n",
    "x + y"
   ]
  },
  {
   "cell_type": "code",
   "execution_count": 4,
   "metadata": {},
   "outputs": [
    {
     "data": {
      "text/plain": [
       "array([[-4, -4],\n",
       "       [-4, -4]])"
      ]
     },
     "execution_count": 4,
     "metadata": {},
     "output_type": "execute_result"
    }
   ],
   "source": [
    "# Subtracting one array from another\n",
    "x - y"
   ]
  },
  {
   "cell_type": "code",
   "execution_count": 5,
   "metadata": {},
   "outputs": [
    {
     "data": {
      "text/plain": [
       "array([[ 5, 12],\n",
       "       [21, 32]])"
      ]
     },
     "execution_count": 5,
     "metadata": {},
     "output_type": "execute_result"
    }
   ],
   "source": [
    "# Multiplying one array to another\n",
    "x * y"
   ]
  },
  {
   "cell_type": "code",
   "execution_count": 6,
   "metadata": {},
   "outputs": [
    {
     "data": {
      "text/plain": [
       "array([[0.2       , 0.33333333],\n",
       "       [0.42857143, 0.5       ]])"
      ]
     },
     "execution_count": 6,
     "metadata": {},
     "output_type": "execute_result"
    }
   ],
   "source": [
    "# Dividing one array with another\n",
    "x / y"
   ]
  },
  {
   "cell_type": "code",
   "execution_count": 7,
   "metadata": {},
   "outputs": [
    {
     "data": {
      "text/plain": [
       "array([[1.        , 0.5       ],\n",
       "       [0.33333333, 0.25      ]])"
      ]
     },
     "execution_count": 7,
     "metadata": {},
     "output_type": "execute_result"
    }
   ],
   "source": [
    "# Unary - Reciprocal of an array\n",
    "1 / x"
   ]
  },
  {
   "cell_type": "code",
   "execution_count": 8,
   "metadata": {},
   "outputs": [
    {
     "data": {
      "text/plain": [
       "array([[-5, -6],\n",
       "       [-7, -8]])"
      ]
     },
     "execution_count": 8,
     "metadata": {},
     "output_type": "execute_result"
    }
   ],
   "source": [
    "# Unary - Negation of an array\n",
    "-y"
   ]
  },
  {
   "cell_type": "code",
   "execution_count": 9,
   "metadata": {},
   "outputs": [
    {
     "name": "stdout",
     "output_type": "stream",
     "text": [
      "[[0.77132064 0.02075195 0.63364823 0.74880388 0.49850701]\n",
      " [0.22479665 0.19806286 0.76053071 0.16911084 0.08833981]\n",
      " [0.68535982 0.95339335 0.00394827 0.51219226 0.81262096]\n",
      " [0.61252607 0.72175532 0.29187607 0.91777412 0.71457578]\n",
      " [0.54254437 0.14217005 0.37334076 0.67413362 0.44183317]]\n"
     ]
    }
   ],
   "source": [
    "import numpy as np\n",
    "np.random.seed(10)\n",
    "y = np.random.random((5, 5))\n",
    "print(y)"
   ]
  }
 ],
 "metadata": {
  "kernelspec": {
   "display_name": "Python [conda env:okkular] *",
   "language": "python",
   "name": "conda-env-okkular-py"
  },
  "language_info": {
   "codemirror_mode": {
    "name": "ipython",
    "version": 3
   },
   "file_extension": ".py",
   "mimetype": "text/x-python",
   "name": "python",
   "nbconvert_exporter": "python",
   "pygments_lexer": "ipython3",
   "version": "3.6.10"
  },
  "toc": {
   "base_numbering": 1,
   "nav_menu": {},
   "number_sections": true,
   "sideBar": true,
   "skip_h1_title": false,
   "title_cell": "Table of Contents",
   "title_sidebar": "Contents",
   "toc_cell": false,
   "toc_position": {},
   "toc_section_display": true,
   "toc_window_display": false
  }
 },
 "nbformat": 4,
 "nbformat_minor": 4
}
