{
 "cells": [
  {
   "cell_type": "markdown",
   "metadata": {},
   "source": [
    "# Special Arrays in Numpy\n",
    "\n",
    "Numpy has a huge number of functions/methods and some of them can be effectively used in order to conveniently create arrays which are frequently encountered in Machine Learning/Deep Learning problems. \n",
    "\n",
    "So, without any further ado, let's dive straight into discussing these special arrays, how to create them and where they're useful. Please note that I will be using the terms array and matrix interchangeably in the subsequent part of the post.\n",
    "\n",
    "\n",
    "## The all-zeros array\n",
    "Just as the name suggests, this array contains nothing but zeros. It could be of any size/shape which the user provides and also the datatype can be specified by the user optionally. \n",
    "\n",
    "```python\n",
    "import numpy as np\n",
    "x = np.zeros(shape = (1, 2), dtype = np.int64)\n",
    "```\n",
    "\n",
    "## The all-ones array\n",
    "This is an array where each and every element is one. Similar to the all-zeros array, this could be built using the np.ones function by specifying the shape and optionally the datatype of the elements in the array.\n",
    "\n",
    "```python\n",
    "import numpy as np\n",
    "x = np.ones(shape = (4, 4), dtype = np.float16)\n",
    "```\n",
    "\n",
    "Both the all-ones and all-zeros arrays can be used particularly for setting flags, for one-hot encoding label/target variable in Machine Learning applications, as a placeholder for filling in the values based on some set of operations etc. \n",
    "\n",
    "## The Identity Matrix\n",
    "In the world of matrices, the identity matrix plays a big role. It is a matrix having ones on the diagonal and zeros elsewhere. It's handy in computing inverses, in finding the identity-mapping representation in resnets and in quite a lot of places. \n",
    "\n",
    "It is typically encountered in a square form but not necessarily. It could be a rectangular matrix as long as all the diagonal elements are 1 (diagonal elements are the ones which are accessed using same index across all the dimensions). In numpy the np.eye function is useful to create an identity matrix and it can be used similar to the ones and zeros function by specifying the shape and dtype (optionally) of the array respectively.\n",
    "\n",
    "```python\n",
    "import numpy as np\n",
    "x = np.eye(shape = (3, 3), dtype = np.int16)\n",
    "```\n",
    "\n",
    "## The diagonal Matrix\n",
    "A matrix which has all zeros across the non-diagnoal elements is called as a diagonal matrix. Conversely, it's only the diagonals which are permitted to have non-zero elements in this matrix. Since it's quite common to encounter these kind of matrices in techniques like Singular Value Decomposition, Eigen Value computation and stuff which can possibly be utilized in Machine Learning for building recommendation systems, the good people at numpy have provided us with a function which can convert a diagonal matrix into a vector of diagonal elements and vice versa. Let's see how.\n",
    "\n",
    "```python\n",
    "import numpy as np\n",
    "x = np.eye(shape = (3,3), dtype = np.int16)\n",
    "\n",
    "# Going from diagonal matrix to a vector representation\n",
    "y = np.diag(x)\n",
    "\n",
    "# Going from vector representation to a diagonal matrix\n",
    "z = np.diag(y)\n",
    "```\n",
    "\n",
    "As we can see in the first turn, a 3 x 3 array was converted into a 1 x 3 array. Conversely in the second step, a 1 x 3 array was converted into a 3 x 3 array. \n",
    "\n",
    "Please note that we can use np.diag to dig out the diagonal elements irrespective of whether the source matrix is a diagonal matrix.\n",
    "\n",
    "```python\n",
    "import numpy as np\n",
    "np.random.seed(3)\n",
    "x = np.array([[1, 2, 3],\n",
    "              [3, 2, 1],\n",
    "              [2, 1, 2]], dtype = np.int16)\n",
    "z = np.diag(x)\n",
    "```\n",
    "\n",
    "## The linearly spaced array\n",
    "Many a time we want to create arrays which run incrementally from a particular start value to a stop value in many computer-science as well as machine-learning applications. Loops would be one example which are supposed to run for a particular number of steps. \n",
    "\n",
    "Numpy provides a function to do just that. All you have to do is specify the start, the end and how many items you want in between. \n",
    "\n",
    "```python\n",
    "import numpy as np\n",
    "x = np.linspace(1, 100, num = 100, dtype = np.int16)\n",
    "```\n",
    "\n",
    "On the other hand, if you knew the step size and the start and end you could use the same function as follows\n",
    "\n",
    "```python\n",
    "import numpy as np\n",
    "num = int(np.ceil((end - start)/step_size))\n",
    "x = np.linspace(start, end, num = num, dtype = np.xxx)\n",
    "```\n",
    "\n",
    "This is used typically for looping over things, looping over every odd or even or spaced over some interval etc. It comes in handy during preprocessing data stage of an ML solution cycle.\n",
    "\n",
    "## The logspaced array\n",
    "\n",
    "Just as we have the linearly spaced array, we can also have arrays that are spaced on a log scale. This is particularly useful while dealing with quantities that vary on a logarithmic scale. Just like we specified for linspace, logspace takes in the start and end quantities and number of elements that need to be in between the two of them and optionally a datatype which each element of that array should be in.\n",
    "\n",
    "```python\n",
    "import numpy as np\n",
    "x = np.logspace(-3, 3, num = 7, dtype = np.int16)\n",
    "```\n",
    "\n",
    "We can make use of this feature when we are doing hyperparameter tuning for learning rate in deep neural networks, or when we have to deal with features that grow in a geometric progression and so on. \n",
    "\n",
    "## Random Arrays\n",
    "When doing machine learning which involves statistics to a considerable extent, the need for random numbers arises inevitably. Although we cannot generate random numbers, we can simulate the production of random numbers using a pseudo-random number generator and numpy gives us one of those in the subpackage random. We will cover some aspects of this subpackage pertaining to arrays here.\n",
    "\n",
    "### Reproducibility in randomness\n",
    "Since we're simulating randomness, we can make sure that the randomness that I generate resembles the randomness that you generate when you run the code that's provided here (Well, that's why it's pseudo-random and not random). In order to do so, you just have to set a seed. You can do it as follows\n",
    "\n",
    "```python\n",
    "np.random.seed(10)\n",
    "```\n",
    "\n",
    "The argument in the above function could be any integer. As long as it's the same and the numpy and python versions are the same, running any of the following commands after setting the seed will ensure that you get the same random numbers. \n",
    "\n",
    "### Random Normal Array\n",
    "A normal distribution or colloquially known as a bell curve is a distribution which is naturally encountered in a lot of problems, places and situations. Given that, simulation of this distribution becomes extremely important. Numpy provides a function to do this. \n",
    "\n",
    "```python\n",
    "import numpy as np\n",
    "np.random.seed(10)\n",
    "y = np.random.randn(5, 5)\n",
    "```\n",
    "\n",
    "You can specify any number of dimensions to build an array of numbers sampled from a normal distribution. This is used the most when initializing the weights of a neural network. It can also be used in simulations which depend on generation of random numbers like the Monte Carlo Simulation and so on...\n",
    "\n",
    "### Random Uniform Array\n",
    "Another distribution which is also commonly used is a random uniform distribution. It is a distribution which weighs every outcome equally. Just like a coin-flip or a case where every outcome has equal probability, this distribution comes in handy.\n",
    "\n",
    "```python\n",
    "import numpy as np\n",
    "np.random.seed(10)\n",
    "np.random.random((5, 5))\n",
    "```\n",
    "\n",
    "You can specify the number of dimensions as a tuple. Note that it's not the same as the previous function. In np.random.randn, you are specifying each dimension individually and not as a tuple whereas that's not the case here.\n",
    "\n",
    "This could be used to perform coin-flips or events which have definitive probabilities and create a simulation out of the same."
   ]
  },
  {
   "cell_type": "code",
   "execution_count": 1,
   "metadata": {},
   "outputs": [],
   "source": [
    "import numpy as np"
   ]
  },
  {
   "cell_type": "code",
   "execution_count": 2,
   "metadata": {},
   "outputs": [
    {
     "data": {
      "text/plain": [
       "array([[0, 0],\n",
       "       [0, 0]])"
      ]
     },
     "execution_count": 2,
     "metadata": {},
     "output_type": "execute_result"
    }
   ],
   "source": [
    "# Matrix of all zeros\n",
    "np.zeros(shape = (2,2), dtype = np.int64)"
   ]
  },
  {
   "cell_type": "code",
   "execution_count": 3,
   "metadata": {},
   "outputs": [
    {
     "data": {
      "text/plain": [
       "array([[1., 1., 1.],\n",
       "       [1., 1., 1.],\n",
       "       [1., 1., 1.]], dtype=float32)"
      ]
     },
     "execution_count": 3,
     "metadata": {},
     "output_type": "execute_result"
    }
   ],
   "source": [
    "# Matrix of all ones\n",
    "np.ones(shape = (3,3), dtype = np.float32)"
   ]
  },
  {
   "cell_type": "code",
   "execution_count": 4,
   "metadata": {},
   "outputs": [
    {
     "data": {
      "text/plain": [
       "array([[1., 0., 0., 0., 0.],\n",
       "       [0., 1., 0., 0., 0.],\n",
       "       [0., 0., 1., 0., 0.]])"
      ]
     },
     "execution_count": 4,
     "metadata": {},
     "output_type": "execute_result"
    }
   ],
   "source": [
    "# Identity Matrix\n",
    "np.eye(N = 3, M = 5)"
   ]
  },
  {
   "cell_type": "code",
   "execution_count": 5,
   "metadata": {},
   "outputs": [
    {
     "data": {
      "text/plain": [
       "array([1, 2, 5])"
      ]
     },
     "execution_count": 5,
     "metadata": {},
     "output_type": "execute_result"
    }
   ],
   "source": [
    "# Diagonal Matrix\n",
    "np.diag([[1,2,3], [1,2,3], [3,4,5]])"
   ]
  },
  {
   "cell_type": "code",
   "execution_count": 6,
   "metadata": {},
   "outputs": [
    {
     "data": {
      "text/plain": [
       "array([[-0.29845894,  1.73889537, -0.28038579,  0.79339141],\n",
       "       [-1.48163109, -0.32963367,  0.59311172, -3.17415521],\n",
       "       [-0.97776768,  2.26475331, -1.6645612 , -0.03920712],\n",
       "       [-0.31110351,  0.77067367,  0.00610254,  0.31099964]])"
      ]
     },
     "execution_count": 6,
     "metadata": {},
     "output_type": "execute_result"
    }
   ],
   "source": [
    "# Random numbers matrix\n",
    "np.random.randn(4, 4)"
   ]
  },
  {
   "cell_type": "code",
   "execution_count": 7,
   "metadata": {},
   "outputs": [
    {
     "data": {
      "text/plain": [
       "array([[ 1.3315865 ,  0.71527897, -1.54540029, -0.00838385],\n",
       "       [ 0.62133597, -0.72008556,  0.26551159,  0.10854853],\n",
       "       [ 0.00429143, -0.17460021,  0.43302619,  1.20303737],\n",
       "       [-0.96506567,  1.02827408,  0.22863013,  0.44513761]])"
      ]
     },
     "execution_count": 7,
     "metadata": {},
     "output_type": "execute_result"
    }
   ],
   "source": [
    "# Draw from a random normal distribution\n",
    "# Ensure reproducibility\n",
    "np.random.seed(10)\n",
    "np.random.randn(4, 4)"
   ]
  },
  {
   "cell_type": "code",
   "execution_count": 8,
   "metadata": {},
   "outputs": [
    {
     "data": {
      "text/plain": [
       "array([[0.77132064, 0.02075195, 0.63364823, 0.74880388],\n",
       "       [0.49850701, 0.22479665, 0.19806286, 0.76053071],\n",
       "       [0.16911084, 0.08833981, 0.68535982, 0.95339335],\n",
       "       [0.00394827, 0.51219226, 0.81262096, 0.61252607],\n",
       "       [0.72175532, 0.29187607, 0.91777412, 0.71457578]])"
      ]
     },
     "execution_count": 8,
     "metadata": {},
     "output_type": "execute_result"
    }
   ],
   "source": [
    "# Draw from a random uniform distribution\n",
    "np.random.seed(10)\n",
    "np.random.random((5, 4))"
   ]
  },
  {
   "cell_type": "code",
   "execution_count": 9,
   "metadata": {},
   "outputs": [
    {
     "data": {
      "text/plain": [
       "array([ 10,  11,  12,  13,  14,  15,  16,  17,  18,  19,  20,  21,  22,\n",
       "        23,  24,  25,  26,  27,  28,  29,  30,  31,  32,  33,  34,  35,\n",
       "        36,  37,  38,  39,  40,  41,  42,  43,  44,  45,  46,  47,  48,\n",
       "        49,  50,  51,  52,  53,  54,  55,  56,  57,  58,  59,  60,  61,\n",
       "        62,  63,  64,  65,  66,  67,  68,  69,  70,  71,  72,  73,  74,\n",
       "        75,  76,  77,  78,  79,  80,  81,  82,  83,  84,  85,  86,  87,\n",
       "        88,  89,  90,  91,  92,  93,  94,  95,  96,  97,  98,  99, 100])"
      ]
     },
     "execution_count": 9,
     "metadata": {},
     "output_type": "execute_result"
    }
   ],
   "source": [
    "# Linearly spaced vector\n",
    "np.linspace(start = 10, stop = 100, num = 91, dtype = np.int64)"
   ]
  },
  {
   "cell_type": "code",
   "execution_count": 10,
   "metadata": {},
   "outputs": [
    {
     "data": {
      "text/plain": [
       "array([1.e-09, 1.e-08, 1.e-07, 1.e-06, 1.e-05, 1.e-04, 1.e-03, 1.e-02,\n",
       "       1.e-01, 1.e+00, 1.e+01, 1.e+02, 1.e+03, 1.e+04, 1.e+05, 1.e+06,\n",
       "       1.e+07, 1.e+08, 1.e+09, 1.e+10], dtype=float32)"
      ]
     },
     "execution_count": 10,
     "metadata": {},
     "output_type": "execute_result"
    }
   ],
   "source": [
    "# Logarithmically spaced vector\n",
    "np.logspace(start = -9, stop = 10, num = 20, dtype = np.float32)"
   ]
  }
 ],
 "metadata": {
  "kernelspec": {
   "display_name": "Python [conda env:okkular] *",
   "language": "python",
   "name": "conda-env-okkular-py"
  },
  "language_info": {
   "codemirror_mode": {
    "name": "ipython",
    "version": 3
   },
   "file_extension": ".py",
   "mimetype": "text/x-python",
   "name": "python",
   "nbconvert_exporter": "python",
   "pygments_lexer": "ipython3",
   "version": "3.6.10"
  },
  "toc": {
   "base_numbering": 1,
   "nav_menu": {},
   "number_sections": true,
   "sideBar": true,
   "skip_h1_title": false,
   "title_cell": "Table of Contents",
   "title_sidebar": "Contents",
   "toc_cell": false,
   "toc_position": {},
   "toc_section_display": true,
   "toc_window_display": false
  }
 },
 "nbformat": 4,
 "nbformat_minor": 4
}
